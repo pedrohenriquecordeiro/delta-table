{
  "cells": [
    {
      "cell_type": "markdown",
      "metadata": {
        "id": "WlhGfu-Wqs9e"
      },
      "source": [
        "Instala a biblioteca\n",
        "```\n",
        "pip install deltalake \n",
        "```"
      ]
    },
    {
      "cell_type": "code",
      "execution_count": 3,
      "metadata": {
        "id": "X0dxe7kHELQC"
      },
      "outputs": [],
      "source": [
        "import pandas as pd\n",
        "from deltalake import DeltaTable\n",
        "from deltalake.writer import write_deltalake\n",
        "import deltalake"
      ]
    },
    {
      "cell_type": "code",
      "execution_count": 4,
      "metadata": {
        "id": "URqhcajTCT6y"
      },
      "outputs": [],
      "source": [
        "# le um arquivo csv e converte para dataframe\n",
        "df = pd.read_csv(\"Data7602DescendingYearOrder.csv\")"
      ]
    },
    {
      "cell_type": "code",
      "execution_count": 5,
      "metadata": {
        "colab": {
          "base_uri": "https://localhost:8080/",
          "height": 206
        },
        "id": "CS5PcOsm9beu",
        "outputId": "5464f29d-fea1-4bc2-8e6d-0480fd1f0ab4"
      },
      "outputs": [
        {
          "data": {
            "text/html": [
              "<div>\n",
              "<style scoped>\n",
              "    .dataframe tbody tr th:only-of-type {\n",
              "        vertical-align: middle;\n",
              "    }\n",
              "\n",
              "    .dataframe tbody tr th {\n",
              "        vertical-align: top;\n",
              "    }\n",
              "\n",
              "    .dataframe thead th {\n",
              "        text-align: right;\n",
              "    }\n",
              "</style>\n",
              "<table border=\"1\" class=\"dataframe\">\n",
              "  <thead>\n",
              "    <tr style=\"text-align: right;\">\n",
              "      <th></th>\n",
              "      <th>anzsic06</th>\n",
              "      <th>Area</th>\n",
              "      <th>year</th>\n",
              "      <th>geo_count</th>\n",
              "      <th>ec_count</th>\n",
              "    </tr>\n",
              "  </thead>\n",
              "  <tbody>\n",
              "    <tr>\n",
              "      <th>0</th>\n",
              "      <td>A</td>\n",
              "      <td>A100100</td>\n",
              "      <td>2022</td>\n",
              "      <td>93</td>\n",
              "      <td>190</td>\n",
              "    </tr>\n",
              "    <tr>\n",
              "      <th>1</th>\n",
              "      <td>A</td>\n",
              "      <td>A100200</td>\n",
              "      <td>2022</td>\n",
              "      <td>138</td>\n",
              "      <td>190</td>\n",
              "    </tr>\n",
              "    <tr>\n",
              "      <th>2</th>\n",
              "      <td>A</td>\n",
              "      <td>A100300</td>\n",
              "      <td>2022</td>\n",
              "      <td>6</td>\n",
              "      <td>25</td>\n",
              "    </tr>\n",
              "    <tr>\n",
              "      <th>3</th>\n",
              "      <td>A</td>\n",
              "      <td>A100400</td>\n",
              "      <td>2022</td>\n",
              "      <td>57</td>\n",
              "      <td>50</td>\n",
              "    </tr>\n",
              "    <tr>\n",
              "      <th>4</th>\n",
              "      <td>A</td>\n",
              "      <td>A100500</td>\n",
              "      <td>2022</td>\n",
              "      <td>57</td>\n",
              "      <td>95</td>\n",
              "    </tr>\n",
              "  </tbody>\n",
              "</table>\n",
              "</div>"
            ],
            "text/plain": [
              "  anzsic06     Area  year  geo_count  ec_count\n",
              "0        A  A100100  2022         93       190\n",
              "1        A  A100200  2022        138       190\n",
              "2        A  A100300  2022          6        25\n",
              "3        A  A100400  2022         57        50\n",
              "4        A  A100500  2022         57        95"
            ]
          },
          "execution_count": 5,
          "metadata": {},
          "output_type": "execute_result"
        }
      ],
      "source": [
        "df.head()"
      ]
    },
    {
      "cell_type": "code",
      "execution_count": 6,
      "metadata": {
        "colab": {
          "base_uri": "https://localhost:8080/"
        },
        "id": "cEyM9G_S99mg",
        "outputId": "7a4d21e5-ba9b-462a-e528-202c0ac67c56"
      },
      "outputs": [
        {
          "data": {
            "text/plain": [
              "(5985364, 5)"
            ]
          },
          "execution_count": 6,
          "metadata": {},
          "output_type": "execute_result"
        }
      ],
      "source": [
        "df.shape"
      ]
    },
    {
      "cell_type": "markdown",
      "metadata": {
        "id": "s9Ce3xEu8Qy9"
      },
      "source": [
        "Transforma o dataframe em um **data lakehouse** !!!"
      ]
    },
    {
      "cell_type": "code",
      "execution_count": 7,
      "metadata": {
        "id": "lt6PUcWH7XpS"
      },
      "outputs": [],
      "source": [
        "write_deltalake(\n",
        "    table_or_uri = 'delta_table', # URI of a table or a DeltaTable object.\n",
        "    data = df,                    # Data to write\n",
        "    mode = 'overwrite',\n",
        "    description = 'dataframe created by a pandas dataframe',\n",
        "    partition_by = ['year'])      # List of columns to partition the table by."
      ]
    }
  ],
  "metadata": {
    "colab": {
      "collapsed_sections": [
        "_3ZouZPzCUYL",
        "VdhCnVArCjqO",
        "0kUrxq4CHlTf",
        "w5w6202RUla1",
        "EOshCtonaDGQ",
        "cENn3F9ucavF",
        "vONw3gTxhBAZ",
        "jjh-5m7Xgb0h"
      ],
      "provenance": []
    },
    "kernelspec": {
      "display_name": "Python 3",
      "name": "python3"
    },
    "language_info": {
      "codemirror_mode": {
        "name": "ipython",
        "version": 3
      },
      "file_extension": ".py",
      "mimetype": "text/x-python",
      "name": "python",
      "nbconvert_exporter": "python",
      "pygments_lexer": "ipython3",
      "version": "3.10.11"
    }
  },
  "nbformat": 4,
  "nbformat_minor": 0
}
