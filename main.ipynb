{
  "cells": [
    {
      "cell_type": "code",
      "execution_count": 1,
      "metadata": {},
      "outputs": [],
      "source": [
        "from functions import *"
      ]
    },
    {
      "cell_type": "markdown",
      "metadata": {
        "id": "WlhGfu-Wqs9e"
      },
      "source": [
        "Instala a biblioteca\n",
        "```\n",
        "pip install deltalake \n",
        "```"
      ]
    },
    {
      "cell_type": "code",
      "execution_count": 2,
      "metadata": {
        "id": "X0dxe7kHELQC"
      },
      "outputs": [],
      "source": [
        "import pandas as pd\n",
        "from deltalake import DeltaTable\n",
        "from deltalake.writer import write_deltalake\n",
        "import deltalake"
      ]
    },
    {
      "cell_type": "code",
      "execution_count": 3,
      "metadata": {
        "id": "URqhcajTCT6y"
      },
      "outputs": [],
      "source": [
        "# le um arquivo csv e converte para dataframe\n",
        "df = pd.read_csv(\"csv\\Data7602DescendingYearOrder\\parte1.csv\")"
      ]
    },
    {
      "cell_type": "code",
      "execution_count": 4,
      "metadata": {
        "colab": {
          "base_uri": "https://localhost:8080/",
          "height": 206
        },
        "id": "CS5PcOsm9beu",
        "outputId": "5464f29d-fea1-4bc2-8e6d-0480fd1f0ab4"
      },
      "outputs": [
        {
          "data": {
            "text/html": [
              "<div>\n",
              "<style scoped>\n",
              "    .dataframe tbody tr th:only-of-type {\n",
              "        vertical-align: middle;\n",
              "    }\n",
              "\n",
              "    .dataframe tbody tr th {\n",
              "        vertical-align: top;\n",
              "    }\n",
              "\n",
              "    .dataframe thead th {\n",
              "        text-align: right;\n",
              "    }\n",
              "</style>\n",
              "<table border=\"1\" class=\"dataframe\">\n",
              "  <thead>\n",
              "    <tr style=\"text-align: right;\">\n",
              "      <th></th>\n",
              "      <th>anzsic06</th>\n",
              "      <th>Area</th>\n",
              "      <th>year</th>\n",
              "      <th>geo_count</th>\n",
              "      <th>ec_count</th>\n",
              "      <th>dataset</th>\n",
              "    </tr>\n",
              "  </thead>\n",
              "  <tbody>\n",
              "    <tr>\n",
              "      <th>0</th>\n",
              "      <td>A</td>\n",
              "      <td>A100100</td>\n",
              "      <td>2022</td>\n",
              "      <td>93</td>\n",
              "      <td>190</td>\n",
              "      <td>dataset_01</td>\n",
              "    </tr>\n",
              "    <tr>\n",
              "      <th>1</th>\n",
              "      <td>A</td>\n",
              "      <td>A100200</td>\n",
              "      <td>2022</td>\n",
              "      <td>138</td>\n",
              "      <td>190</td>\n",
              "      <td>dataset_01</td>\n",
              "    </tr>\n",
              "    <tr>\n",
              "      <th>2</th>\n",
              "      <td>A</td>\n",
              "      <td>A100300</td>\n",
              "      <td>2022</td>\n",
              "      <td>6</td>\n",
              "      <td>25</td>\n",
              "      <td>dataset_01</td>\n",
              "    </tr>\n",
              "    <tr>\n",
              "      <th>3</th>\n",
              "      <td>A</td>\n",
              "      <td>A100400</td>\n",
              "      <td>2022</td>\n",
              "      <td>57</td>\n",
              "      <td>50</td>\n",
              "      <td>dataset_01</td>\n",
              "    </tr>\n",
              "    <tr>\n",
              "      <th>4</th>\n",
              "      <td>A</td>\n",
              "      <td>A100500</td>\n",
              "      <td>2022</td>\n",
              "      <td>57</td>\n",
              "      <td>95</td>\n",
              "      <td>dataset_01</td>\n",
              "    </tr>\n",
              "  </tbody>\n",
              "</table>\n",
              "</div>"
            ],
            "text/plain": [
              "  anzsic06     Area  year  geo_count  ec_count     dataset\n",
              "0        A  A100100  2022         93       190  dataset_01\n",
              "1        A  A100200  2022        138       190  dataset_01\n",
              "2        A  A100300  2022          6        25  dataset_01\n",
              "3        A  A100400  2022         57        50  dataset_01\n",
              "4        A  A100500  2022         57        95  dataset_01"
            ]
          },
          "execution_count": 4,
          "metadata": {},
          "output_type": "execute_result"
        }
      ],
      "source": [
        "df.head()"
      ]
    },
    {
      "cell_type": "code",
      "execution_count": 5,
      "metadata": {
        "colab": {
          "base_uri": "https://localhost:8080/"
        },
        "id": "cEyM9G_S99mg",
        "outputId": "7a4d21e5-ba9b-462a-e528-202c0ac67c56"
      },
      "outputs": [
        {
          "data": {
            "text/plain": [
              "(2992677, 6)"
            ]
          },
          "execution_count": 5,
          "metadata": {},
          "output_type": "execute_result"
        }
      ],
      "source": [
        "df.shape"
      ]
    },
    {
      "cell_type": "markdown",
      "metadata": {
        "id": "s9Ce3xEu8Qy9"
      },
      "source": [
        "Transforma o dataframe em um **data lakehouse** !!!"
      ]
    },
    {
      "cell_type": "code",
      "execution_count": 6,
      "metadata": {
        "id": "lt6PUcWH7XpS"
      },
      "outputs": [],
      "source": [
        "write_deltalake(\n",
        "    table_or_uri = 'delta_table', # URI of a table or a DeltaTable object.\n",
        "    data = df,                    # Data to write\n",
        "    mode = 'overwrite',\n",
        "    description = 'dataframe created by a pandas dataframe',\n",
        "    partition_by = ['year'])      # List of columns to partition the table by."
      ]
    },
    {
      "cell_type": "markdown",
      "metadata": {},
      "source": [
        "Ao executar o write_deltalake, é criado uma pasta conforme passado para o parametro table_or_uri. Na pasta são criadas pastas filhas particionadas pelo parâmetro partition_by, com arquivos .parquet."
      ]
    },
    {
      "cell_type": "code",
      "execution_count": 7,
      "metadata": {},
      "outputs": [
        {
          "name": "stdout",
          "output_type": "stream",
          "text": [
            "delta_table\n",
            "  delta_table\\year=2011\n",
            "    0-5997f68b-3b99-4618-84d4-54746e3e5173-0.parquet\n",
            "  delta_table\\year=2012\n",
            "    0-5997f68b-3b99-4618-84d4-54746e3e5173-0.parquet\n",
            "  delta_table\\year=2013\n",
            "    0-5997f68b-3b99-4618-84d4-54746e3e5173-0.parquet\n",
            "  delta_table\\year=2014\n",
            "    0-5997f68b-3b99-4618-84d4-54746e3e5173-0.parquet\n",
            "  delta_table\\year=2015\n",
            "    0-5997f68b-3b99-4618-84d4-54746e3e5173-0.parquet\n",
            "  delta_table\\year=2016\n",
            "    0-5997f68b-3b99-4618-84d4-54746e3e5173-0.parquet\n",
            "  delta_table\\year=2017\n",
            "    0-5997f68b-3b99-4618-84d4-54746e3e5173-0.parquet\n",
            "  delta_table\\year=2018\n",
            "    0-5997f68b-3b99-4618-84d4-54746e3e5173-0.parquet\n",
            "  delta_table\\year=2019\n",
            "    0-5997f68b-3b99-4618-84d4-54746e3e5173-0.parquet\n",
            "  delta_table\\year=2020\n",
            "    0-5997f68b-3b99-4618-84d4-54746e3e5173-0.parquet\n",
            "  delta_table\\year=2021\n",
            "    0-5997f68b-3b99-4618-84d4-54746e3e5173-0.parquet\n",
            "  delta_table\\year=2022\n",
            "    0-5997f68b-3b99-4618-84d4-54746e3e5173-0.parquet\n",
            "  delta_table\\_delta_log\n",
            "    00000000000000000000.json\n",
            "None\n"
          ]
        }
      ],
      "source": [
        "# esquema da pasta criada\n",
        "\n",
        "print(print_directory_tree('delta_table'))"
      ]
    },
    {
      "cell_type": "code",
      "execution_count": 8,
      "metadata": {},
      "outputs": [
        {
          "data": {
            "text/html": [
              "<div>\n",
              "<style scoped>\n",
              "    .dataframe tbody tr th:only-of-type {\n",
              "        vertical-align: middle;\n",
              "    }\n",
              "\n",
              "    .dataframe tbody tr th {\n",
              "        vertical-align: top;\n",
              "    }\n",
              "\n",
              "    .dataframe thead th {\n",
              "        text-align: right;\n",
              "    }\n",
              "</style>\n",
              "<table border=\"1\" class=\"dataframe\">\n",
              "  <thead>\n",
              "    <tr style=\"text-align: right;\">\n",
              "      <th></th>\n",
              "      <th>anzsic06</th>\n",
              "      <th>Area</th>\n",
              "      <th>year</th>\n",
              "      <th>geo_count</th>\n",
              "      <th>ec_count</th>\n",
              "      <th>dataset</th>\n",
              "    </tr>\n",
              "  </thead>\n",
              "  <tbody>\n",
              "    <tr>\n",
              "      <th>0</th>\n",
              "      <td>A</td>\n",
              "      <td>A100100</td>\n",
              "      <td>2011</td>\n",
              "      <td>87</td>\n",
              "      <td>200</td>\n",
              "      <td>dataset_01</td>\n",
              "    </tr>\n",
              "    <tr>\n",
              "      <th>1</th>\n",
              "      <td>A</td>\n",
              "      <td>A100200</td>\n",
              "      <td>2011</td>\n",
              "      <td>171</td>\n",
              "      <td>130</td>\n",
              "      <td>dataset_01</td>\n",
              "    </tr>\n",
              "    <tr>\n",
              "      <th>2</th>\n",
              "      <td>A</td>\n",
              "      <td>A100300</td>\n",
              "      <td>2011</td>\n",
              "      <td>18</td>\n",
              "      <td>15</td>\n",
              "      <td>dataset_01</td>\n",
              "    </tr>\n",
              "    <tr>\n",
              "      <th>3</th>\n",
              "      <td>A</td>\n",
              "      <td>A100400</td>\n",
              "      <td>2011</td>\n",
              "      <td>57</td>\n",
              "      <td>35</td>\n",
              "      <td>dataset_01</td>\n",
              "    </tr>\n",
              "    <tr>\n",
              "      <th>4</th>\n",
              "      <td>A</td>\n",
              "      <td>A100500</td>\n",
              "      <td>2011</td>\n",
              "      <td>75</td>\n",
              "      <td>140</td>\n",
              "      <td>dataset_01</td>\n",
              "    </tr>\n",
              "    <tr>\n",
              "      <th>...</th>\n",
              "      <td>...</td>\n",
              "      <td>...</td>\n",
              "      <td>...</td>\n",
              "      <td>...</td>\n",
              "      <td>...</td>\n",
              "      <td>...</td>\n",
              "    </tr>\n",
              "    <tr>\n",
              "      <th>2992672</th>\n",
              "      <td>M70</td>\n",
              "      <td>A183000</td>\n",
              "      <td>2013</td>\n",
              "      <td>3</td>\n",
              "      <td>0</td>\n",
              "      <td>dataset_01</td>\n",
              "    </tr>\n",
              "    <tr>\n",
              "      <th>2992673</th>\n",
              "      <td>M70</td>\n",
              "      <td>A183200</td>\n",
              "      <td>2013</td>\n",
              "      <td>3</td>\n",
              "      <td>3</td>\n",
              "      <td>dataset_01</td>\n",
              "    </tr>\n",
              "    <tr>\n",
              "      <th>2992674</th>\n",
              "      <td>M70</td>\n",
              "      <td>A183500</td>\n",
              "      <td>2013</td>\n",
              "      <td>6</td>\n",
              "      <td>6</td>\n",
              "      <td>dataset_01</td>\n",
              "    </tr>\n",
              "    <tr>\n",
              "      <th>2992675</th>\n",
              "      <td>M70</td>\n",
              "      <td>A183600</td>\n",
              "      <td>2013</td>\n",
              "      <td>0</td>\n",
              "      <td>0</td>\n",
              "      <td>dataset_01</td>\n",
              "    </tr>\n",
              "    <tr>\n",
              "      <th>2992676</th>\n",
              "      <td>M70</td>\n",
              "      <td>A183700</td>\n",
              "      <td>2013</td>\n",
              "      <td>0</td>\n",
              "      <td>3</td>\n",
              "      <td>dataset_01</td>\n",
              "    </tr>\n",
              "  </tbody>\n",
              "</table>\n",
              "<p>2992677 rows × 6 columns</p>\n",
              "</div>"
            ],
            "text/plain": [
              "        anzsic06     Area  year  geo_count  ec_count     dataset\n",
              "0              A  A100100  2011         87       200  dataset_01\n",
              "1              A  A100200  2011        171       130  dataset_01\n",
              "2              A  A100300  2011         18        15  dataset_01\n",
              "3              A  A100400  2011         57        35  dataset_01\n",
              "4              A  A100500  2011         75       140  dataset_01\n",
              "...          ...      ...   ...        ...       ...         ...\n",
              "2992672      M70  A183000  2013          3         0  dataset_01\n",
              "2992673      M70  A183200  2013          3         3  dataset_01\n",
              "2992674      M70  A183500  2013          6         6  dataset_01\n",
              "2992675      M70  A183600  2013          0         0  dataset_01\n",
              "2992676      M70  A183700  2013          0         3  dataset_01\n",
              "\n",
              "[2992677 rows x 6 columns]"
            ]
          },
          "execution_count": 8,
          "metadata": {},
          "output_type": "execute_result"
        }
      ],
      "source": [
        "DeltaTable('delta_table', version = 0).to_pandas()"
      ]
    },
    {
      "cell_type": "markdown",
      "metadata": {},
      "source": [
        "**Metadados**"
      ]
    },
    {
      "cell_type": "code",
      "execution_count": 9,
      "metadata": {},
      "outputs": [
        {
          "data": {
            "text/plain": [
              "anzsic06: string\n",
              "Area: string\n",
              "year: int64\n",
              "geo_count: int64\n",
              "ec_count: int64\n",
              "dataset: string"
            ]
          },
          "execution_count": 9,
          "metadata": {},
          "output_type": "execute_result"
        }
      ],
      "source": [
        "DeltaTable('delta_table').schema().to_pyarrow()"
      ]
    },
    {
      "cell_type": "code",
      "execution_count": 10,
      "metadata": {},
      "outputs": [
        {
          "data": {
            "text/plain": [
              "[{'timestamp': 1692909223890,\n",
              "  'operation': 'CREATE TABLE',\n",
              "  'operationParameters': {'metadata': '{\"configuration\":{},\"created_time\":1692909223889,\"description\":\"dataframe created by a pandas dataframe\",\"format\":{\"options\":{},\"provider\":\"parquet\"},\"id\":\"265bb84c-3629-4579-9dff-88959bfc7770\",\"name\":null,\"partition_columns\":[\"year\"],\"schema\":{\"fields\":[{\"metadata\":{},\"name\":\"anzsic06\",\"nullable\":true,\"type\":\"string\"},{\"metadata\":{},\"name\":\"Area\",\"nullable\":true,\"type\":\"string\"},{\"metadata\":{},\"name\":\"year\",\"nullable\":true,\"type\":\"long\"},{\"metadata\":{},\"name\":\"geo_count\",\"nullable\":true,\"type\":\"long\"},{\"metadata\":{},\"name\":\"ec_count\",\"nullable\":true,\"type\":\"long\"},{\"metadata\":{},\"name\":\"dataset\",\"nullable\":true,\"type\":\"string\"}],\"type\":\"struct\"}}',\n",
              "   'protocol': '{\"minReaderVersion\":1,\"minWriterVersion\":1}',\n",
              "   'location': 'file:///C:/Users/pjesus/Documents/delta/delta_table',\n",
              "   'mode': 'ErrorIfExists'},\n",
              "  'clientVersion': 'delta-rs.0.13.1'}]"
            ]
          },
          "execution_count": 10,
          "metadata": {},
          "output_type": "execute_result"
        }
      ],
      "source": [
        "DeltaTable('delta_table').history()"
      ]
    },
    {
      "cell_type": "code",
      "execution_count": 11,
      "metadata": {},
      "outputs": [
        {
          "data": {
            "text/html": [
              "<div>\n",
              "<style scoped>\n",
              "    .dataframe tbody tr th:only-of-type {\n",
              "        vertical-align: middle;\n",
              "    }\n",
              "\n",
              "    .dataframe tbody tr th {\n",
              "        vertical-align: top;\n",
              "    }\n",
              "\n",
              "    .dataframe thead th {\n",
              "        text-align: right;\n",
              "    }\n",
              "</style>\n",
              "<table border=\"1\" class=\"dataframe\">\n",
              "  <thead>\n",
              "    <tr style=\"text-align: right;\">\n",
              "      <th></th>\n",
              "      <th>path</th>\n",
              "      <th>size_bytes</th>\n",
              "      <th>modification_time</th>\n",
              "      <th>data_change</th>\n",
              "      <th>partition.year</th>\n",
              "      <th>num_records</th>\n",
              "      <th>null_count.anzsic06</th>\n",
              "      <th>min.anzsic06</th>\n",
              "      <th>max.anzsic06</th>\n",
              "      <th>null_count.Area</th>\n",
              "      <th>...</th>\n",
              "      <th>max.Area</th>\n",
              "      <th>null_count.geo_count</th>\n",
              "      <th>min.geo_count</th>\n",
              "      <th>max.geo_count</th>\n",
              "      <th>null_count.ec_count</th>\n",
              "      <th>min.ec_count</th>\n",
              "      <th>max.ec_count</th>\n",
              "      <th>null_count.dataset</th>\n",
              "      <th>min.dataset</th>\n",
              "      <th>max.dataset</th>\n",
              "    </tr>\n",
              "  </thead>\n",
              "  <tbody>\n",
              "    <tr>\n",
              "      <th>0</th>\n",
              "      <td>year=2011/0-5997f68b-3b99-4618-84d4-54746e3e51...</td>\n",
              "      <td>109820</td>\n",
              "      <td>2023-08-24 20:33:43.742</td>\n",
              "      <td>True</td>\n",
              "      <td>2011</td>\n",
              "      <td>36907</td>\n",
              "      <td>0</td>\n",
              "      <td>A</td>\n",
              "      <td>C203</td>\n",
              "      <td>0</td>\n",
              "      <td>...</td>\n",
              "      <td>TTotal</td>\n",
              "      <td>0</td>\n",
              "      <td>0</td>\n",
              "      <td>74712</td>\n",
              "      <td>0</td>\n",
              "      <td>0</td>\n",
              "      <td>214600</td>\n",
              "      <td>0</td>\n",
              "      <td>dataset_01</td>\n",
              "      <td>dataset_01</td>\n",
              "    </tr>\n",
              "    <tr>\n",
              "      <th>1</th>\n",
              "      <td>year=2021/0-5997f68b-3b99-4618-84d4-54746e3e51...</td>\n",
              "      <td>823158</td>\n",
              "      <td>2023-08-24 20:33:43.793</td>\n",
              "      <td>True</td>\n",
              "      <td>2021</td>\n",
              "      <td>274328</td>\n",
              "      <td>0</td>\n",
              "      <td>A</td>\n",
              "      <td>Total</td>\n",
              "      <td>0</td>\n",
              "      <td>...</td>\n",
              "      <td>TTotal</td>\n",
              "      <td>0</td>\n",
              "      <td>0</td>\n",
              "      <td>600372</td>\n",
              "      <td>0</td>\n",
              "      <td>0</td>\n",
              "      <td>2314700</td>\n",
              "      <td>0</td>\n",
              "      <td>dataset_01</td>\n",
              "      <td>dataset_01</td>\n",
              "    </tr>\n",
              "  </tbody>\n",
              "</table>\n",
              "<p>2 rows × 21 columns</p>\n",
              "</div>"
            ],
            "text/plain": [
              "                                                path  size_bytes  \\\n",
              "0  year=2011/0-5997f68b-3b99-4618-84d4-54746e3e51...      109820   \n",
              "1  year=2021/0-5997f68b-3b99-4618-84d4-54746e3e51...      823158   \n",
              "\n",
              "        modification_time  data_change  partition.year  num_records  \\\n",
              "0 2023-08-24 20:33:43.742         True            2011        36907   \n",
              "1 2023-08-24 20:33:43.793         True            2021       274328   \n",
              "\n",
              "   null_count.anzsic06 min.anzsic06 max.anzsic06  null_count.Area  ...  \\\n",
              "0                    0            A         C203                0  ...   \n",
              "1                    0            A        Total                0  ...   \n",
              "\n",
              "  max.Area null_count.geo_count  min.geo_count  max.geo_count  \\\n",
              "0   TTotal                    0              0          74712   \n",
              "1   TTotal                    0              0         600372   \n",
              "\n",
              "   null_count.ec_count  min.ec_count  max.ec_count  null_count.dataset  \\\n",
              "0                    0             0        214600                   0   \n",
              "1                    0             0       2314700                   0   \n",
              "\n",
              "   min.dataset max.dataset  \n",
              "0   dataset_01  dataset_01  \n",
              "1   dataset_01  dataset_01  \n",
              "\n",
              "[2 rows x 21 columns]"
            ]
          },
          "execution_count": 11,
          "metadata": {},
          "output_type": "execute_result"
        }
      ],
      "source": [
        "DeltaTable('delta_table').get_add_actions(flatten=True).to_pandas().head(2)"
      ]
    },
    {
      "cell_type": "markdown",
      "metadata": {},
      "source": [
        "**Time Travel**"
      ]
    },
    {
      "cell_type": "code",
      "execution_count": 12,
      "metadata": {},
      "outputs": [
        {
          "data": {
            "text/html": [
              "<div>\n",
              "<style scoped>\n",
              "    .dataframe tbody tr th:only-of-type {\n",
              "        vertical-align: middle;\n",
              "    }\n",
              "\n",
              "    .dataframe tbody tr th {\n",
              "        vertical-align: top;\n",
              "    }\n",
              "\n",
              "    .dataframe thead th {\n",
              "        text-align: right;\n",
              "    }\n",
              "</style>\n",
              "<table border=\"1\" class=\"dataframe\">\n",
              "  <thead>\n",
              "    <tr style=\"text-align: right;\">\n",
              "      <th></th>\n",
              "      <th>anzsic06</th>\n",
              "      <th>Area</th>\n",
              "      <th>year</th>\n",
              "      <th>geo_count</th>\n",
              "      <th>ec_count</th>\n",
              "      <th>dataset</th>\n",
              "    </tr>\n",
              "  </thead>\n",
              "  <tbody>\n",
              "    <tr>\n",
              "      <th>0</th>\n",
              "      <td>A</td>\n",
              "      <td>A100100</td>\n",
              "      <td>2022</td>\n",
              "      <td>93</td>\n",
              "      <td>190</td>\n",
              "      <td>dataset_01</td>\n",
              "    </tr>\n",
              "    <tr>\n",
              "      <th>1</th>\n",
              "      <td>A</td>\n",
              "      <td>A100200</td>\n",
              "      <td>2022</td>\n",
              "      <td>138</td>\n",
              "      <td>190</td>\n",
              "      <td>dataset_01</td>\n",
              "    </tr>\n",
              "    <tr>\n",
              "      <th>2</th>\n",
              "      <td>A</td>\n",
              "      <td>A100300</td>\n",
              "      <td>2022</td>\n",
              "      <td>6</td>\n",
              "      <td>25</td>\n",
              "      <td>dataset_01</td>\n",
              "    </tr>\n",
              "    <tr>\n",
              "      <th>3</th>\n",
              "      <td>A</td>\n",
              "      <td>A100400</td>\n",
              "      <td>2022</td>\n",
              "      <td>57</td>\n",
              "      <td>50</td>\n",
              "      <td>dataset_01</td>\n",
              "    </tr>\n",
              "    <tr>\n",
              "      <th>4</th>\n",
              "      <td>A</td>\n",
              "      <td>A100500</td>\n",
              "      <td>2022</td>\n",
              "      <td>57</td>\n",
              "      <td>95</td>\n",
              "      <td>dataset_01</td>\n",
              "    </tr>\n",
              "    <tr>\n",
              "      <th>5</th>\n",
              "      <td>A</td>\n",
              "      <td>A100600</td>\n",
              "      <td>2022</td>\n",
              "      <td>12</td>\n",
              "      <td>30</td>\n",
              "      <td>dataset_01</td>\n",
              "    </tr>\n",
              "  </tbody>\n",
              "</table>\n",
              "</div>"
            ],
            "text/plain": [
              "  anzsic06     Area  year  geo_count  ec_count     dataset\n",
              "0        A  A100100  2022         93       190  dataset_01\n",
              "1        A  A100200  2022        138       190  dataset_01\n",
              "2        A  A100300  2022          6        25  dataset_01\n",
              "3        A  A100400  2022         57        50  dataset_01\n",
              "4        A  A100500  2022         57        95  dataset_01\n",
              "5        A  A100600  2022         12        30  dataset_01"
            ]
          },
          "execution_count": 12,
          "metadata": {},
          "output_type": "execute_result"
        }
      ],
      "source": [
        "# dataframe com mesmo schema do df1\n",
        "df2 = pd.read_csv('csv\\Data7602DescendingYearOrder\\parte2.csv')\n",
        "df.head(6)"
      ]
    },
    {
      "cell_type": "code",
      "execution_count": 13,
      "metadata": {},
      "outputs": [],
      "source": [
        "write_deltalake('delta_table', df2,\n",
        "        mode = 'append',\n",
        "        partition_by= ['year'])"
      ]
    },
    {
      "cell_type": "code",
      "execution_count": 14,
      "metadata": {},
      "outputs": [
        {
          "data": {
            "text/html": [
              "<div>\n",
              "<style scoped>\n",
              "    .dataframe tbody tr th:only-of-type {\n",
              "        vertical-align: middle;\n",
              "    }\n",
              "\n",
              "    .dataframe tbody tr th {\n",
              "        vertical-align: top;\n",
              "    }\n",
              "\n",
              "    .dataframe thead th {\n",
              "        text-align: right;\n",
              "    }\n",
              "</style>\n",
              "<table border=\"1\" class=\"dataframe\">\n",
              "  <thead>\n",
              "    <tr style=\"text-align: right;\">\n",
              "      <th></th>\n",
              "      <th>anzsic06</th>\n",
              "      <th>Area</th>\n",
              "      <th>year</th>\n",
              "      <th>geo_count</th>\n",
              "      <th>ec_count</th>\n",
              "      <th>dataset</th>\n",
              "    </tr>\n",
              "  </thead>\n",
              "  <tbody>\n",
              "    <tr>\n",
              "      <th>0</th>\n",
              "      <td>A</td>\n",
              "      <td>A100100</td>\n",
              "      <td>2011</td>\n",
              "      <td>87</td>\n",
              "      <td>200</td>\n",
              "      <td>dataset_01</td>\n",
              "    </tr>\n",
              "    <tr>\n",
              "      <th>1</th>\n",
              "      <td>A</td>\n",
              "      <td>A100200</td>\n",
              "      <td>2011</td>\n",
              "      <td>171</td>\n",
              "      <td>130</td>\n",
              "      <td>dataset_01</td>\n",
              "    </tr>\n",
              "    <tr>\n",
              "      <th>2</th>\n",
              "      <td>A</td>\n",
              "      <td>A100300</td>\n",
              "      <td>2011</td>\n",
              "      <td>18</td>\n",
              "      <td>15</td>\n",
              "      <td>dataset_01</td>\n",
              "    </tr>\n",
              "    <tr>\n",
              "      <th>3</th>\n",
              "      <td>A</td>\n",
              "      <td>A100400</td>\n",
              "      <td>2011</td>\n",
              "      <td>57</td>\n",
              "      <td>35</td>\n",
              "      <td>dataset_01</td>\n",
              "    </tr>\n",
              "    <tr>\n",
              "      <th>4</th>\n",
              "      <td>A</td>\n",
              "      <td>A100500</td>\n",
              "      <td>2011</td>\n",
              "      <td>75</td>\n",
              "      <td>140</td>\n",
              "      <td>dataset_01</td>\n",
              "    </tr>\n",
              "    <tr>\n",
              "      <th>...</th>\n",
              "      <td>...</td>\n",
              "      <td>...</td>\n",
              "      <td>...</td>\n",
              "      <td>...</td>\n",
              "      <td>...</td>\n",
              "      <td>...</td>\n",
              "    </tr>\n",
              "    <tr>\n",
              "      <th>2992672</th>\n",
              "      <td>M70</td>\n",
              "      <td>A183000</td>\n",
              "      <td>2013</td>\n",
              "      <td>3</td>\n",
              "      <td>0</td>\n",
              "      <td>dataset_01</td>\n",
              "    </tr>\n",
              "    <tr>\n",
              "      <th>2992673</th>\n",
              "      <td>M70</td>\n",
              "      <td>A183200</td>\n",
              "      <td>2013</td>\n",
              "      <td>3</td>\n",
              "      <td>3</td>\n",
              "      <td>dataset_01</td>\n",
              "    </tr>\n",
              "    <tr>\n",
              "      <th>2992674</th>\n",
              "      <td>M70</td>\n",
              "      <td>A183500</td>\n",
              "      <td>2013</td>\n",
              "      <td>6</td>\n",
              "      <td>6</td>\n",
              "      <td>dataset_01</td>\n",
              "    </tr>\n",
              "    <tr>\n",
              "      <th>2992675</th>\n",
              "      <td>M70</td>\n",
              "      <td>A183600</td>\n",
              "      <td>2013</td>\n",
              "      <td>0</td>\n",
              "      <td>0</td>\n",
              "      <td>dataset_01</td>\n",
              "    </tr>\n",
              "    <tr>\n",
              "      <th>2992676</th>\n",
              "      <td>M70</td>\n",
              "      <td>A183700</td>\n",
              "      <td>2013</td>\n",
              "      <td>0</td>\n",
              "      <td>3</td>\n",
              "      <td>dataset_01</td>\n",
              "    </tr>\n",
              "  </tbody>\n",
              "</table>\n",
              "<p>2992677 rows × 6 columns</p>\n",
              "</div>"
            ],
            "text/plain": [
              "        anzsic06     Area  year  geo_count  ec_count     dataset\n",
              "0              A  A100100  2011         87       200  dataset_01\n",
              "1              A  A100200  2011        171       130  dataset_01\n",
              "2              A  A100300  2011         18        15  dataset_01\n",
              "3              A  A100400  2011         57        35  dataset_01\n",
              "4              A  A100500  2011         75       140  dataset_01\n",
              "...          ...      ...   ...        ...       ...         ...\n",
              "2992672      M70  A183000  2013          3         0  dataset_01\n",
              "2992673      M70  A183200  2013          3         3  dataset_01\n",
              "2992674      M70  A183500  2013          6         6  dataset_01\n",
              "2992675      M70  A183600  2013          0         0  dataset_01\n",
              "2992676      M70  A183700  2013          0         3  dataset_01\n",
              "\n",
              "[2992677 rows x 6 columns]"
            ]
          },
          "execution_count": 14,
          "metadata": {},
          "output_type": "execute_result"
        }
      ],
      "source": [
        "DeltaTable('delta_table', version = 0).to_pandas()"
      ]
    },
    {
      "cell_type": "code",
      "execution_count": 15,
      "metadata": {},
      "outputs": [
        {
          "data": {
            "text/html": [
              "<div>\n",
              "<style scoped>\n",
              "    .dataframe tbody tr th:only-of-type {\n",
              "        vertical-align: middle;\n",
              "    }\n",
              "\n",
              "    .dataframe tbody tr th {\n",
              "        vertical-align: top;\n",
              "    }\n",
              "\n",
              "    .dataframe thead th {\n",
              "        text-align: right;\n",
              "    }\n",
              "</style>\n",
              "<table border=\"1\" class=\"dataframe\">\n",
              "  <thead>\n",
              "    <tr style=\"text-align: right;\">\n",
              "      <th></th>\n",
              "      <th>anzsic06</th>\n",
              "      <th>Area</th>\n",
              "      <th>year</th>\n",
              "      <th>geo_count</th>\n",
              "      <th>ec_count</th>\n",
              "      <th>dataset</th>\n",
              "    </tr>\n",
              "  </thead>\n",
              "  <tbody>\n",
              "    <tr>\n",
              "      <th>0</th>\n",
              "      <td>A</td>\n",
              "      <td>A100100</td>\n",
              "      <td>2011</td>\n",
              "      <td>87</td>\n",
              "      <td>200</td>\n",
              "      <td>dataset_01</td>\n",
              "    </tr>\n",
              "    <tr>\n",
              "      <th>1</th>\n",
              "      <td>A</td>\n",
              "      <td>A100200</td>\n",
              "      <td>2011</td>\n",
              "      <td>171</td>\n",
              "      <td>130</td>\n",
              "      <td>dataset_01</td>\n",
              "    </tr>\n",
              "    <tr>\n",
              "      <th>2</th>\n",
              "      <td>A</td>\n",
              "      <td>A100300</td>\n",
              "      <td>2011</td>\n",
              "      <td>18</td>\n",
              "      <td>15</td>\n",
              "      <td>dataset_01</td>\n",
              "    </tr>\n",
              "    <tr>\n",
              "      <th>3</th>\n",
              "      <td>A</td>\n",
              "      <td>A100400</td>\n",
              "      <td>2011</td>\n",
              "      <td>57</td>\n",
              "      <td>35</td>\n",
              "      <td>dataset_01</td>\n",
              "    </tr>\n",
              "    <tr>\n",
              "      <th>4</th>\n",
              "      <td>A</td>\n",
              "      <td>A100500</td>\n",
              "      <td>2011</td>\n",
              "      <td>75</td>\n",
              "      <td>140</td>\n",
              "      <td>dataset_01</td>\n",
              "    </tr>\n",
              "    <tr>\n",
              "      <th>...</th>\n",
              "      <td>...</td>\n",
              "      <td>...</td>\n",
              "      <td>...</td>\n",
              "      <td>...</td>\n",
              "      <td>...</td>\n",
              "      <td>...</td>\n",
              "    </tr>\n",
              "    <tr>\n",
              "      <th>5984854</th>\n",
              "      <td>Total</td>\n",
              "      <td>A322700</td>\n",
              "      <td>2000</td>\n",
              "      <td>93</td>\n",
              "      <td>380</td>\n",
              "      <td>dataset_02</td>\n",
              "    </tr>\n",
              "    <tr>\n",
              "      <th>5984855</th>\n",
              "      <td>Total</td>\n",
              "      <td>A322900</td>\n",
              "      <td>2000</td>\n",
              "      <td>18</td>\n",
              "      <td>12</td>\n",
              "      <td>dataset_02</td>\n",
              "    </tr>\n",
              "    <tr>\n",
              "      <th>5984856</th>\n",
              "      <td>Total</td>\n",
              "      <td>A323000</td>\n",
              "      <td>2000</td>\n",
              "      <td>435</td>\n",
              "      <td>2150</td>\n",
              "      <td>dataset_02</td>\n",
              "    </tr>\n",
              "    <tr>\n",
              "      <th>5984857</th>\n",
              "      <td>Total</td>\n",
              "      <td>A323100</td>\n",
              "      <td>2000</td>\n",
              "      <td>195</td>\n",
              "      <td>280</td>\n",
              "      <td>dataset_02</td>\n",
              "    </tr>\n",
              "    <tr>\n",
              "      <th>5984858</th>\n",
              "      <td>Total</td>\n",
              "      <td>A323200</td>\n",
              "      <td>2000</td>\n",
              "      <td>207</td>\n",
              "      <td>1000</td>\n",
              "      <td>dataset_02</td>\n",
              "    </tr>\n",
              "  </tbody>\n",
              "</table>\n",
              "<p>5984859 rows × 6 columns</p>\n",
              "</div>"
            ],
            "text/plain": [
              "        anzsic06     Area  year  geo_count  ec_count     dataset\n",
              "0              A  A100100  2011         87       200  dataset_01\n",
              "1              A  A100200  2011        171       130  dataset_01\n",
              "2              A  A100300  2011         18        15  dataset_01\n",
              "3              A  A100400  2011         57        35  dataset_01\n",
              "4              A  A100500  2011         75       140  dataset_01\n",
              "...          ...      ...   ...        ...       ...         ...\n",
              "5984854    Total  A322700  2000         93       380  dataset_02\n",
              "5984855    Total  A322900  2000         18        12  dataset_02\n",
              "5984856    Total  A323000  2000        435      2150  dataset_02\n",
              "5984857    Total  A323100  2000        195       280  dataset_02\n",
              "5984858    Total  A323200  2000        207      1000  dataset_02\n",
              "\n",
              "[5984859 rows x 6 columns]"
            ]
          },
          "execution_count": 15,
          "metadata": {},
          "output_type": "execute_result"
        }
      ],
      "source": [
        "DeltaTable('delta_table', version = 1).to_pandas()"
      ]
    },
    {
      "cell_type": "markdown",
      "metadata": {},
      "source": [
        "**Schema Reiforcement**"
      ]
    },
    {
      "cell_type": "code",
      "execution_count": 16,
      "metadata": {},
      "outputs": [
        {
          "data": {
            "text/plain": [
              "anzsic06: string\n",
              "Area: string\n",
              "year: int64\n",
              "geo_count: int64\n",
              "ec_count: int64\n",
              "dataset: string"
            ]
          },
          "execution_count": 16,
          "metadata": {},
          "output_type": "execute_result"
        }
      ],
      "source": [
        "DeltaTable('delta_table').schema().to_pyarrow()"
      ]
    },
    {
      "cell_type": "code",
      "execution_count": 17,
      "metadata": {},
      "outputs": [],
      "source": [
        "df3 = pd.read_csv('csv\\Data7602DescendingYearOrder\\parte3.csv')\n",
        "\n",
        "df3['geo_count'] = df3['geo_count'].astype(float)\n",
        "df3['ec_count']  = df3['ec_count'].astype(float)\n",
        "df3['year']  = df3['year'].astype(float)"
      ]
    },
    {
      "cell_type": "markdown",
      "metadata": {},
      "source": [
        "Schema do df3 diferente do delta table"
      ]
    },
    {
      "cell_type": "code",
      "execution_count": 18,
      "metadata": {},
      "outputs": [
        {
          "data": {
            "text/plain": [
              "anzsic06      object\n",
              "Area          object\n",
              "year         float64\n",
              "geo_count    float64\n",
              "ec_count     float64\n",
              "dataset       object\n",
              "dtype: object"
            ]
          },
          "execution_count": 18,
          "metadata": {},
          "output_type": "execute_result"
        }
      ],
      "source": [
        "df3.dtypes"
      ]
    },
    {
      "cell_type": "code",
      "execution_count": 19,
      "metadata": {},
      "outputs": [
        {
          "name": "stdout",
          "output_type": "stream",
          "text": [
            "Schema of data does not match table schema\n",
            "Table schema:\n",
            "anzsic06: string\n",
            "Area: string\n",
            "year: double\n",
            "geo_count: double\n",
            "ec_count: double\n",
            "dataset: string\n",
            "-- schema metadata --\n",
            "pandas: '{\"index_columns\": [{\"kind\": \"range\", \"name\": null, \"start\": 0, \"' + 942\n",
            "Data Schema:\n",
            "anzsic06: string\n",
            "Area: string\n",
            "year: int64\n",
            "geo_count: int64\n",
            "ec_count: int64\n",
            "dataset: string\n"
          ]
        }
      ],
      "source": [
        "try:\n",
        "    write_deltalake('delta_table', df3,\n",
        "                mode = 'append',\n",
        "                partition_by= ['year'])\n",
        "\n",
        "except ValueError as error:\n",
        "    print(error)"
      ]
    },
    {
      "cell_type": "markdown",
      "metadata": {},
      "source": [
        "**Changed Data Feed**"
      ]
    },
    {
      "cell_type": "code",
      "execution_count": 20,
      "metadata": {},
      "outputs": [
        {
          "data": {
            "text/plain": [
              "1"
            ]
          },
          "execution_count": 20,
          "metadata": {},
          "output_type": "execute_result"
        }
      ],
      "source": [
        "currently_version = DeltaTable(\"delta_table\").version()\n",
        "currently_version"
      ]
    },
    {
      "cell_type": "code",
      "execution_count": 21,
      "metadata": {},
      "outputs": [
        {
          "data": {
            "text/plain": [
              "['C:/Users/pjesus/Documents/delta/delta_table/year=2011/0-5997f68b-3b99-4618-84d4-54746e3e5173-0.parquet',\n",
              " 'C:/Users/pjesus/Documents/delta/delta_table/year=2021/0-5997f68b-3b99-4618-84d4-54746e3e5173-0.parquet',\n",
              " 'C:/Users/pjesus/Documents/delta/delta_table/year=2022/0-5997f68b-3b99-4618-84d4-54746e3e5173-0.parquet',\n",
              " 'C:/Users/pjesus/Documents/delta/delta_table/year=2012/0-5997f68b-3b99-4618-84d4-54746e3e5173-0.parquet',\n",
              " 'C:/Users/pjesus/Documents/delta/delta_table/year=2019/0-5997f68b-3b99-4618-84d4-54746e3e5173-0.parquet',\n",
              " 'C:/Users/pjesus/Documents/delta/delta_table/year=2020/0-5997f68b-3b99-4618-84d4-54746e3e5173-0.parquet',\n",
              " 'C:/Users/pjesus/Documents/delta/delta_table/year=2016/0-5997f68b-3b99-4618-84d4-54746e3e5173-0.parquet',\n",
              " 'C:/Users/pjesus/Documents/delta/delta_table/year=2014/0-5997f68b-3b99-4618-84d4-54746e3e5173-0.parquet',\n",
              " 'C:/Users/pjesus/Documents/delta/delta_table/year=2018/0-5997f68b-3b99-4618-84d4-54746e3e5173-0.parquet',\n",
              " 'C:/Users/pjesus/Documents/delta/delta_table/year=2017/0-5997f68b-3b99-4618-84d4-54746e3e5173-0.parquet',\n",
              " 'C:/Users/pjesus/Documents/delta/delta_table/year=2015/0-5997f68b-3b99-4618-84d4-54746e3e5173-0.parquet',\n",
              " 'C:/Users/pjesus/Documents/delta/delta_table/year=2013/0-5997f68b-3b99-4618-84d4-54746e3e5173-0.parquet']"
            ]
          },
          "execution_count": 21,
          "metadata": {},
          "output_type": "execute_result"
        }
      ],
      "source": [
        "DeltaTable(\"delta_table\", version = 0).file_uris()"
      ]
    },
    {
      "cell_type": "code",
      "execution_count": 22,
      "metadata": {},
      "outputs": [
        {
          "data": {
            "text/plain": [
              "['C:/Users/pjesus/Documents/delta/delta_table/year=2011/0-5997f68b-3b99-4618-84d4-54746e3e5173-0.parquet',\n",
              " 'C:/Users/pjesus/Documents/delta/delta_table/year=2021/0-5997f68b-3b99-4618-84d4-54746e3e5173-0.parquet',\n",
              " 'C:/Users/pjesus/Documents/delta/delta_table/year=2022/0-5997f68b-3b99-4618-84d4-54746e3e5173-0.parquet',\n",
              " 'C:/Users/pjesus/Documents/delta/delta_table/year=2012/0-5997f68b-3b99-4618-84d4-54746e3e5173-0.parquet',\n",
              " 'C:/Users/pjesus/Documents/delta/delta_table/year=2019/0-5997f68b-3b99-4618-84d4-54746e3e5173-0.parquet',\n",
              " 'C:/Users/pjesus/Documents/delta/delta_table/year=2020/0-5997f68b-3b99-4618-84d4-54746e3e5173-0.parquet',\n",
              " 'C:/Users/pjesus/Documents/delta/delta_table/year=2016/0-5997f68b-3b99-4618-84d4-54746e3e5173-0.parquet',\n",
              " 'C:/Users/pjesus/Documents/delta/delta_table/year=2014/0-5997f68b-3b99-4618-84d4-54746e3e5173-0.parquet',\n",
              " 'C:/Users/pjesus/Documents/delta/delta_table/year=2018/0-5997f68b-3b99-4618-84d4-54746e3e5173-0.parquet',\n",
              " 'C:/Users/pjesus/Documents/delta/delta_table/year=2017/0-5997f68b-3b99-4618-84d4-54746e3e5173-0.parquet',\n",
              " 'C:/Users/pjesus/Documents/delta/delta_table/year=2015/0-5997f68b-3b99-4618-84d4-54746e3e5173-0.parquet',\n",
              " 'C:/Users/pjesus/Documents/delta/delta_table/year=2013/0-5997f68b-3b99-4618-84d4-54746e3e5173-0.parquet',\n",
              " 'C:/Users/pjesus/Documents/delta/delta_table/year=2011/1-1eed0505-71ea-4272-9ee6-16ac9fb5cf0a-0.parquet',\n",
              " 'C:/Users/pjesus/Documents/delta/delta_table/year=2003/1-1eed0505-71ea-4272-9ee6-16ac9fb5cf0a-0.parquet',\n",
              " 'C:/Users/pjesus/Documents/delta/delta_table/year=2010/1-1eed0505-71ea-4272-9ee6-16ac9fb5cf0a-0.parquet',\n",
              " 'C:/Users/pjesus/Documents/delta/delta_table/year=2006/1-1eed0505-71ea-4272-9ee6-16ac9fb5cf0a-0.parquet',\n",
              " 'C:/Users/pjesus/Documents/delta/delta_table/year=2008/1-1eed0505-71ea-4272-9ee6-16ac9fb5cf0a-0.parquet',\n",
              " 'C:/Users/pjesus/Documents/delta/delta_table/year=2004/1-1eed0505-71ea-4272-9ee6-16ac9fb5cf0a-0.parquet',\n",
              " 'C:/Users/pjesus/Documents/delta/delta_table/year=2005/1-1eed0505-71ea-4272-9ee6-16ac9fb5cf0a-0.parquet',\n",
              " 'C:/Users/pjesus/Documents/delta/delta_table/year=2009/1-1eed0505-71ea-4272-9ee6-16ac9fb5cf0a-0.parquet',\n",
              " 'C:/Users/pjesus/Documents/delta/delta_table/year=2007/1-1eed0505-71ea-4272-9ee6-16ac9fb5cf0a-0.parquet',\n",
              " 'C:/Users/pjesus/Documents/delta/delta_table/year=2002/1-1eed0505-71ea-4272-9ee6-16ac9fb5cf0a-0.parquet',\n",
              " 'C:/Users/pjesus/Documents/delta/delta_table/year=2001/1-1eed0505-71ea-4272-9ee6-16ac9fb5cf0a-0.parquet',\n",
              " 'C:/Users/pjesus/Documents/delta/delta_table/year=2000/1-1eed0505-71ea-4272-9ee6-16ac9fb5cf0a-0.parquet']"
            ]
          },
          "execution_count": 22,
          "metadata": {},
          "output_type": "execute_result"
        }
      ],
      "source": [
        "DeltaTable(\"delta_table\", version = 1).file_uris()"
      ]
    }
  ],
  "metadata": {
    "colab": {
      "collapsed_sections": [
        "_3ZouZPzCUYL",
        "VdhCnVArCjqO",
        "0kUrxq4CHlTf",
        "w5w6202RUla1",
        "EOshCtonaDGQ",
        "cENn3F9ucavF",
        "vONw3gTxhBAZ",
        "jjh-5m7Xgb0h"
      ],
      "provenance": []
    },
    "kernelspec": {
      "display_name": "Python 3",
      "name": "python3"
    },
    "language_info": {
      "codemirror_mode": {
        "name": "ipython",
        "version": 3
      },
      "file_extension": ".py",
      "mimetype": "text/x-python",
      "name": "python",
      "nbconvert_exporter": "python",
      "pygments_lexer": "ipython3",
      "version": "3.10.11"
    }
  },
  "nbformat": 4,
  "nbformat_minor": 0
}
